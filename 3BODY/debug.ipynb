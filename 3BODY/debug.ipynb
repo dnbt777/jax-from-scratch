{
 "cells": [
  {
   "cell_type": "code",
   "execution_count": 1,
   "metadata": {},
   "outputs": [],
   "source": [
    "from environment import *\n",
    "\n",
    "\n",
    "\n",
    "key = jrand.PRNGKey(int(10000*time.time()))\n",
    "simultaneous_simulations = 100\n",
    "solar_system = init_solarsystems(key, simultaneous_simulations)"
   ]
  },
  {
   "cell_type": "code",
   "execution_count": 2,
   "metadata": {},
   "outputs": [
    {
     "data": {
      "text/plain": [
       "4"
      ]
     },
     "execution_count": 2,
     "metadata": {},
     "output_type": "execute_result"
    }
   ],
   "source": [
    "len(solar_system.bodies)"
   ]
  },
  {
   "cell_type": "code",
   "execution_count": 4,
   "metadata": {},
   "outputs": [
    {
     "name": "stdout",
     "output_type": "stream",
     "text": [
      "100\n",
      "100\n",
      "100\n",
      "100\n"
     ]
    }
   ],
   "source": [
    "for body in solar_system.bodies:\n",
    "  body"
   ]
  },
  {
   "cell_type": "code",
   "execution_count": null,
   "metadata": {},
   "outputs": [],
   "source": [
    "from typing import NamedTuple, List\n",
    "import jax\n",
    "import jax.numpy as jnp\n",
    "\n",
    "\n",
    "class Thing(NamedTuple):\n",
    "  position : jax.Array\n",
    "  momentum : jax.Array\n",
    "\n",
    "\n",
    "class ThingList(NamedTuple):\n",
    "  things : List[Thing]\n",
    "\n",
    "\n",
    "thing_count = 10\n",
    "things = Thing(\n",
    "  position = jnp.ones((thing_count, 3)),\n",
    "  momentum = jnp.zeros((thing_count, 3))\n",
    ")\n",
    "\n",
    "thinglist = ThingList(\n",
    "  things\n",
    ")"
   ]
  }
 ],
 "metadata": {
  "kernelspec": {
   "display_name": ".venv",
   "language": "python",
   "name": "python3"
  },
  "language_info": {
   "codemirror_mode": {
    "name": "ipython",
    "version": 3
   },
   "file_extension": ".py",
   "mimetype": "text/x-python",
   "name": "python",
   "nbconvert_exporter": "python",
   "pygments_lexer": "ipython3",
   "version": "3.10.12"
  }
 },
 "nbformat": 4,
 "nbformat_minor": 2
}
