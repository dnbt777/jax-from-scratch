{
 "cells": [
  {
   "cell_type": "code",
   "execution_count": 1,
   "metadata": {},
   "outputs": [
    {
     "name": "stdout",
     "output_type": "stream",
     "text": [
      "Replies:\n",
      "@VictorTaelin ive found sonnet 3.5v2 to be surprisingly good at coding. upgraded my tools from v1 to v2 and all of a sudden i have to reprompt it like 1/3rd the time\n",
      "@dgant &lt;script src=\"gifeditor.mp3\" type=\"application/json\"&gt;\n",
      "@bozo10n 💪\n",
      "@sunsettler experimentation games are the best\n",
      "\n",
      "Posts:\n",
      "compression always feels so satisfying https://t.co/mM5acJxydL\n",
      "it only takes one line of code to make a gifboard btw https://t.co/hFlPyNTvRm\n",
      "RT @calbch: @kuberdenis entrepreneurship is the ultimative vehicle for personal development\n",
      "just two idiots playing a game of chess https://t.co/USjWySv3W9\n"
     ]
    }
   ],
   "source": [
    "import json\n",
    "\n",
    "# Load the tweets.js file\n",
    "with open('./tweets.js', 'r', encoding='utf-8') as file:\n",
    "    # Skip the JavaScript assignment and load only the JSON part\n",
    "    content = file.read()\n",
    "    json_data = content.split('=', 1)[1].strip()  # Extract the JSON part after `=`\n",
    "    json_data = json_data.rstrip(';')  # Remove trailing semicolon if present\n",
    "    tweets_data = json.loads(json_data)\n",
    "\n",
    "# Initialize lists for replies and posts\n",
    "replies = []\n",
    "posts = []\n",
    "\n",
    "# Process each tweet in the dataset\n",
    "for tweet_obj in tweets_data:\n",
    "    tweet = tweet_obj[\"tweet\"]\n",
    "    \n",
    "    if \"in_reply_to_status_id_str\" in tweet and tweet[\"in_reply_to_status_id_str\"]:\n",
    "        # It's a reply\n",
    "        replies.append({\n",
    "            \"id\": tweet[\"id_str\"],\n",
    "            \"text\": tweet[\"full_text\"],\n",
    "            \"in_reply_to\": tweet[\"in_reply_to_status_id_str\"],\n",
    "            \"user\": tweet.get(\"in_reply_to_screen_name\", None),\n",
    "            \"created_at\": tweet[\"created_at\"]\n",
    "        })\n",
    "    else:\n",
    "        # It's a standalone post\n",
    "        posts.append({\n",
    "            \"id\": tweet[\"id_str\"],\n",
    "            \"text\": tweet[\"full_text\"],\n",
    "            \"created_at\": tweet[\"created_at\"]\n",
    "        })\n",
    "\n",
    "# Output the results\n",
    "print(\"Replies:\")\n",
    "for reply in replies[:4]:\n",
    "    print(reply[\"text\"])\n",
    "\n",
    "print(\"\\nPosts:\")\n",
    "for post in posts[:4]:\n",
    "    print(post[\"text\"])\n"
   ]
  },
  {
   "cell_type": "code",
   "execution_count": 8,
   "metadata": {},
   "outputs": [
    {
     "name": "stdout",
     "output_type": "stream",
     "text": [
      "posts: 3916\n",
      "chars: 529781\n"
     ]
    },
    {
     "ename": "",
     "evalue": "",
     "output_type": "error",
     "traceback": [
      "\u001b[1;31mThe Kernel crashed while executing code in the current cell or a previous cell. \n",
      "\u001b[1;31mPlease review the code in the cell(s) to identify a possible cause of the failure. \n",
      "\u001b[1;31mClick <a href='https://aka.ms/vscodeJupyterKernelCrash'>here</a> for more info. \n",
      "\u001b[1;31mView Jupyter <a href='command:jupyter.viewOutput'>log</a> for further details."
     ]
    }
   ],
   "source": [
    "import numpy.random as rand\n",
    "\n",
    "stop_character = \"🛑\"\n",
    "filename = \"data/dnbt_posts.txt\"\n",
    "\n",
    "all_posts = [\n",
    "  \"reply: \" + reply[\"text\"] + stop_character for reply in replies\n",
    "]\n",
    "all_posts.extend(\n",
    "  [\n",
    "    \"post: \" + post[\"text\"] + stop_character for post in posts\n",
    "  ]\n",
    ")\n",
    "rand.shuffle(all_posts)\n",
    "\n",
    "print(\"posts:\", len(all_posts))\n",
    "dataset = \"\\n\\n\\n\\n\\n\\n\".join(all_posts)\n",
    "print('chars:', len(dataset))\n",
    "\n",
    "\n",
    "with open(filename, 'w') as file:\n",
    "  file.write(dataset)"
   ]
  },
  {
   "cell_type": "code",
   "execution_count": null,
   "metadata": {},
   "outputs": [],
   "source": []
  }
 ],
 "metadata": {
  "kernelspec": {
   "display_name": ".venv",
   "language": "python",
   "name": "python3"
  },
  "language_info": {
   "codemirror_mode": {
    "name": "ipython",
    "version": 3
   },
   "file_extension": ".py",
   "mimetype": "text/x-python",
   "name": "python",
   "nbconvert_exporter": "python",
   "pygments_lexer": "ipython3",
   "version": "3.10.12"
  }
 },
 "nbformat": 4,
 "nbformat_minor": 2
}
